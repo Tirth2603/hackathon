{
 "cells": [
  {
   "cell_type": "markdown",
   "id": "c356234f",
   "metadata": {},
   "source": [
    "# MIND HACKATHON\n",
    "# 20BCE276,20BCE290,20BCE319,20BCE321\n"
   ]
  },
  {
   "cell_type": "code",
   "execution_count": 24,
   "id": "b3471d49",
   "metadata": {},
   "outputs": [],
   "source": [
    "import pandas as pd\n",
    "import numpy as np\n",
    "import matplotlib.pyplot as plt\n",
    "import seaborn as sns"
   ]
  },
  {
   "cell_type": "code",
   "execution_count": 25,
   "id": "e3cc77b3",
   "metadata": {},
   "outputs": [],
   "source": [
    "data = pd.read_csv('../Desktop/data.csv')"
   ]
  },
  {
   "cell_type": "code",
   "execution_count": 26,
   "id": "a4181244",
   "metadata": {},
   "outputs": [
    {
     "data": {
      "text/html": [
       "<div>\n",
       "<style scoped>\n",
       "    .dataframe tbody tr th:only-of-type {\n",
       "        vertical-align: middle;\n",
       "    }\n",
       "\n",
       "    .dataframe tbody tr th {\n",
       "        vertical-align: top;\n",
       "    }\n",
       "\n",
       "    .dataframe thead th {\n",
       "        text-align: right;\n",
       "    }\n",
       "</style>\n",
       "<table border=\"1\" class=\"dataframe\">\n",
       "  <thead>\n",
       "    <tr style=\"text-align: right;\">\n",
       "      <th></th>\n",
       "      <th>Date</th>\n",
       "      <th>value</th>\n",
       "    </tr>\n",
       "  </thead>\n",
       "  <tbody>\n",
       "    <tr>\n",
       "      <th>0</th>\n",
       "      <td>January 1, 2020</td>\n",
       "      <td>71.165</td>\n",
       "    </tr>\n",
       "    <tr>\n",
       "      <th>1</th>\n",
       "      <td>January 2, 2020</td>\n",
       "      <td>71.348</td>\n",
       "    </tr>\n",
       "    <tr>\n",
       "      <th>2</th>\n",
       "      <td>January 3, 2020</td>\n",
       "      <td>71.754</td>\n",
       "    </tr>\n",
       "    <tr>\n",
       "      <th>3</th>\n",
       "      <td>January 4, 2020</td>\n",
       "      <td>71.761</td>\n",
       "    </tr>\n",
       "    <tr>\n",
       "      <th>4</th>\n",
       "      <td>January 5, 2020</td>\n",
       "      <td>71.761</td>\n",
       "    </tr>\n",
       "  </tbody>\n",
       "</table>\n",
       "</div>"
      ],
      "text/plain": [
       "              Date   value\n",
       "0  January 1, 2020  71.165\n",
       "1  January 2, 2020  71.348\n",
       "2  January 3, 2020  71.754\n",
       "3  January 4, 2020  71.761\n",
       "4  January 5, 2020  71.761"
      ]
     },
     "execution_count": 26,
     "metadata": {},
     "output_type": "execute_result"
    }
   ],
   "source": [
    "data.head()"
   ]
  },
  {
   "cell_type": "code",
   "execution_count": 27,
   "id": "26943feb",
   "metadata": {},
   "outputs": [
    {
     "name": "stdout",
     "output_type": "stream",
     "text": [
      "<class 'pandas.core.frame.DataFrame'>\n",
      "RangeIndex: 894 entries, 0 to 893\n",
      "Data columns (total 2 columns):\n",
      " #   Column  Non-Null Count  Dtype  \n",
      "---  ------  --------------  -----  \n",
      " 0   Date    894 non-null    object \n",
      " 1   value   894 non-null    float64\n",
      "dtypes: float64(1), object(1)\n",
      "memory usage: 14.1+ KB\n"
     ]
    }
   ],
   "source": [
    "data.info()"
   ]
  },
  {
   "cell_type": "code",
   "execution_count": 28,
   "id": "badf6b1e",
   "metadata": {},
   "outputs": [],
   "source": [
    "data['Date'] = pd.to_datetime(data['Date'])\n"
   ]
  },
  {
   "cell_type": "code",
   "execution_count": 29,
   "id": "768433ac",
   "metadata": {},
   "outputs": [
    {
     "name": "stdout",
     "output_type": "stream",
     "text": [
      "<class 'pandas.core.frame.DataFrame'>\n",
      "RangeIndex: 894 entries, 0 to 893\n",
      "Data columns (total 2 columns):\n",
      " #   Column  Non-Null Count  Dtype         \n",
      "---  ------  --------------  -----         \n",
      " 0   Date    894 non-null    datetime64[ns]\n",
      " 1   value   894 non-null    float64       \n",
      "dtypes: datetime64[ns](1), float64(1)\n",
      "memory usage: 14.1 KB\n"
     ]
    }
   ],
   "source": [
    "data.info()"
   ]
  },
  {
   "cell_type": "code",
   "execution_count": 30,
   "id": "4ca5575b",
   "metadata": {},
   "outputs": [],
   "source": [
    "df=data"
   ]
  },
  {
   "cell_type": "code",
   "execution_count": 31,
   "id": "514935f1",
   "metadata": {},
   "outputs": [],
   "source": [
    "df  = df.set_index('Date')"
   ]
  },
  {
   "cell_type": "code",
   "execution_count": 35,
   "id": "d9123d2c",
   "metadata": {},
   "outputs": [
    {
     "data": {
      "text/plain": [
       "<AxesSubplot:xlabel='Date'>"
      ]
     },
     "execution_count": 35,
     "metadata": {},
     "output_type": "execute_result"
    },
    {
     "data": {
      "image/png": "[encoded data removed]",
      "text/plain": [
       "<Figure size 432x288 with 1 Axes>"
      ]
     },
     "metadata": {
      "needs_background": "light"
     },
     "output_type": "display_data"
    }
   ],
   "source": [
    "df.plot()"
   ]
  },
  {
   "cell_type": "code",
   "execution_count": 33,
   "id": "5b0221f0",
   "metadata": {},
   "outputs": [
    {
     "data": {
      "text/html": [
       "<div>\n",
       "<style scoped>\n",
       "    .dataframe tbody tr th:only-of-type {\n",
       "        vertical-align: middle;\n",
       "    }\n",
       "\n",
       "    .dataframe tbody tr th {\n",
       "        vertical-align: top;\n",
       "    }\n",
       "\n",
       "    .dataframe thead th {\n",
       "        text-align: right;\n",
       "    }\n",
       "</style>\n",
       "<table border=\"1\" class=\"dataframe\">\n",
       "  <thead>\n",
       "    <tr style=\"text-align: right;\">\n",
       "      <th></th>\n",
       "      <th>value</th>\n",
       "    </tr>\n",
       "    <tr>\n",
       "      <th>Date</th>\n",
       "      <th></th>\n",
       "    </tr>\n",
       "  </thead>\n",
       "  <tbody>\n",
       "    <tr>\n",
       "      <th>2020-01-01</th>\n",
       "      <td>71.165</td>\n",
       "    </tr>\n",
       "    <tr>\n",
       "      <th>2020-01-02</th>\n",
       "      <td>71.348</td>\n",
       "    </tr>\n",
       "    <tr>\n",
       "      <th>2020-01-03</th>\n",
       "      <td>71.754</td>\n",
       "    </tr>\n",
       "    <tr>\n",
       "      <th>2020-01-04</th>\n",
       "      <td>71.761</td>\n",
       "    </tr>\n",
       "    <tr>\n",
       "      <th>2020-01-05</th>\n",
       "      <td>71.761</td>\n",
       "    </tr>\n",
       "  </tbody>\n",
       "</table>\n",
       "</div>"
      ],
      "text/plain": [
       "             value\n",
       "Date              \n",
       "2020-01-01  71.165\n",
       "2020-01-02  71.348\n",
       "2020-01-03  71.754\n",
       "2020-01-04  71.761\n",
       "2020-01-05  71.761"
      ]
     },
     "execution_count": 33,
     "metadata": {},
     "output_type": "execute_result"
    }
   ],
   "source": [
    "df.head()"
   ]
  },
  {
   "cell_type": "code",
   "execution_count": 38,
   "id": "f7a558e3",
   "metadata": {},
   "outputs": [],
   "source": [
    "from statsmodels.tsa.stattools import adfuller"
   ]
  },
  {
   "cell_type": "code",
   "execution_count": 39,
   "id": "58662da9",
   "metadata": {},
   "outputs": [
    {
     "name": "stdout",
     "output_type": "stream",
     "text": [
      "test statistics             -1.433012\n",
      "p-value                      0.566351\n",
      "lags used                    1.000000\n",
      "no of observations used    892.000000\n",
      "critical value(1%)          -3.437702\n",
      "critical value(5%)          -2.864786\n",
      "critical value(10%)         -2.568498\n",
      "dtype: float64\n"
     ]
    }
   ],
   "source": [
    "m = adfuller(df['value'],autolag = 'AIC')\n",
    "out = pd.Series(m[0:4],index=['test statistics','p-value','lags used','no of observations used'])\n",
    "for key,value in m[4].items():\n",
    "        out['critical value(%s)'%key]=value\n",
    "print(out)     "
   ]
  },
  {
   "cell_type": "code",
   "execution_count": 40,
   "id": "a75d1813",
   "metadata": {},
   "outputs": [],
   "source": [
    "log = np.log(df)"
   ]
  },
  {
   "cell_type": "code",
   "execution_count": 41,
   "id": "cdb1db60",
   "metadata": {},
   "outputs": [],
   "source": [
    "logmean = log.rolling(window = 12).mean()\n",
    "logstd = log.rolling(window = 12).std()"
   ]
  },
  {
   "cell_type": "code",
   "execution_count": 42,
   "id": "a42ac0ac",
   "metadata": {},
   "outputs": [],
   "source": [
    "logmeanscale = log - logmean"
   ]
  },
  {
   "cell_type": "code",
   "execution_count": 43,
   "id": "5728647c",
   "metadata": {},
   "outputs": [],
   "source": [
    "logmeanscale = logmeanscale.dropna()"
   ]
  },
  {
   "cell_type": "code",
   "execution_count": 44,
   "id": "163e49eb",
   "metadata": {},
   "outputs": [
    {
     "name": "stdout",
     "output_type": "stream",
     "text": [
      "test statistics           -8.707570e+00\n",
      "p-value                    3.664847e-14\n",
      "lags used                  0.000000e+00\n",
      "no of observations used    8.820000e+02\n",
      "critical value(1%)        -3.437786e+00\n",
      "critical value(5%)        -2.864822e+00\n",
      "critical value(10%)       -2.568518e+00\n",
      "dtype: float64\n"
     ]
    }
   ],
   "source": [
    "m = adfuller(logmeanscale['value'],autolag = 'AIC')\n",
    "out = pd.Series(m[0:4],index=['test statistics','p-value','lags used','no of observations used'])\n",
    "for key,value in m[4].items():\n",
    "        out['critical value(%s)'%key]=value\n",
    "print(out)  "
   ]
  },
  {
   "cell_type": "code",
   "execution_count": 45,
   "id": "2d658ea3",
   "metadata": {},
   "outputs": [],
   "source": [
    "exp = log.ewm(halflife = 12,min_periods = 0,adjust = True).mean()"
   ]
  },
  {
   "cell_type": "code",
   "execution_count": 46,
   "id": "4369d5dd",
   "metadata": {},
   "outputs": [],
   "source": [
    "logexp = log - exp"
   ]
  },
  {
   "cell_type": "code",
   "execution_count": 47,
   "id": "dd2d81f7",
   "metadata": {},
   "outputs": [
    {
     "name": "stdout",
     "output_type": "stream",
     "text": [
      "test statistics             -5.067126\n",
      "p-value                      0.000016\n",
      "lags used                    1.000000\n",
      "no of observations used    892.000000\n",
      "critical value(1%)          -3.437702\n",
      "critical value(5%)          -2.864786\n",
      "critical value(10%)         -2.568498\n",
      "dtype: float64\n"
     ]
    }
   ],
   "source": [
    "m = adfuller(logexp['value'],autolag = 'AIC')\n",
    "out = pd.Series(m[0:4],index=['test statistics','p-value','lags used','no of observations used'])\n",
    "for key,value in m[4].items():\n",
    "        out['critical value(%s)'%key]=value\n",
    "print(out)  "
   ]
  },
  {
   "cell_type": "code",
   "execution_count": 48,
   "id": "4aa0347d",
   "metadata": {},
   "outputs": [],
   "source": [
    "logshift = log-log.shift()\n",
    "logshift = logshift.dropna()"
   ]
  },
  {
   "cell_type": "code",
   "execution_count": 49,
   "id": "02988c5e",
   "metadata": {},
   "outputs": [
    {
     "name": "stdout",
     "output_type": "stream",
     "text": [
      "test statistics            -32.427905\n",
      "p-value                      0.000000\n",
      "lags used                    0.000000\n",
      "no of observations used    892.000000\n",
      "critical value(1%)          -3.437702\n",
      "critical value(5%)          -2.864786\n",
      "critical value(10%)         -2.568498\n",
      "dtype: float64\n"
     ]
    }
   ],
   "source": [
    "m = adfuller(logshift['value'],autolag = 'AIC')\n",
    "out = pd.Series(m[0:4],index=['test statistics','p-value','lags used','no of observations used'])\n",
    "for key,value in m[4].items():\n",
    "        out['critical value(%s)'%key]=value\n",
    "print(out)  "
   ]
  },
  {
   "cell_type": "code",
   "execution_count": 50,
   "id": "b6f27820",
   "metadata": {},
   "outputs": [
    {
     "data": {
      "image/png": "[encoded data removed]",
      "text/plain": [
       "<Figure size 432x288 with 1 Axes>"
      ]
     },
     "execution_count": 50,
     "metadata": {},
     "output_type": "execute_result"
    },
    {
     "data": {
      "image/png": "[encoded data removed]",
      "text/plain": [
       "<Figure size 432x288 with 1 Axes>"
      ]
     },
     "metadata": {
      "needs_background": "light"
     },
     "output_type": "display_data"
    }
   ],
   "source": [
    "from statsmodels.graphics.tsaplots import plot_acf,plot_pacf\n",
    "import  statsmodels.api as sm\n",
    "sm.graphics.tsa.plot_acf(logshift)"
   ]
  },
  {
   "cell_type": "code",
   "execution_count": 51,
   "id": "7ea6d6da",
   "metadata": {},
   "outputs": [
    {
     "name": "stderr",
     "output_type": "stream",
     "text": [
      "C:\\Users\\Tirth Shrimali\\lib\\site-packages\\statsmodels\\graphics\\tsaplots.py:348: FutureWarning: The default method 'yw' can produce PACF values outside of the [-1,1] interval. After 0.13, the default will change tounadjusted Yule-Walker ('ywm'). You can use this method now by setting method='ywm'.\n",
      "  warnings.warn(\n"
     ]
    },
    {
     "data": {
      "image/png": "[encoded data removed]",
      "text/plain": [
       "<Figure size 432x288 with 1 Axes>"
      ]
     },
     "execution_count": 51,
     "metadata": {},
     "output_type": "execute_result"
    },
    {
     "data": {
      "image/png": "[encoded data removed]",
      "text/plain": [
       "<Figure size 432x288 with 1 Axes>"
      ]
     },
     "metadata": {
      "needs_background": "light"
     },
     "output_type": "display_data"
    }
   ],
   "source": [
    "sm.graphics.tsa.plot_pacf(logshift)"
   ]
  },
  {
   "cell_type": "code",
   "execution_count": 52,
   "id": "f68dc00f",
   "metadata": {},
   "outputs": [
    {
     "name": "stderr",
     "output_type": "stream",
     "text": [
      "C:\\Users\\Tirth Shrimali\\lib\\site-packages\\statsmodels\\tsa\\base\\tsa_model.py:471: ValueWarning: A date index has been provided, but it has no associated frequency information and so will be ignored when e.g. forecasting.\n",
      "  self._init_dates(dates, freq)\n",
      "C:\\Users\\Tirth Shrimali\\lib\\site-packages\\statsmodels\\tsa\\base\\tsa_model.py:471: ValueWarning: A date index has been provided, but it has no associated frequency information and so will be ignored when e.g. forecasting.\n",
      "  self._init_dates(dates, freq)\n",
      "C:\\Users\\Tirth Shrimali\\lib\\site-packages\\statsmodels\\tsa\\base\\tsa_model.py:471: ValueWarning: A date index has been provided, but it has no associated frequency information and so will be ignored when e.g. forecasting.\n",
      "  self._init_dates(dates, freq)\n"
     ]
    }
   ],
   "source": [
    "model = sm.tsa.arima.ARIMA(logshift,order = (1,1,0))\n",
    "result = model.fit()"
   ]
  },
  {
   "cell_type": "code",
   "execution_count": 53,
   "id": "96b1ac50",
   "metadata": {},
   "outputs": [
    {
     "data": {
      "text/plain": [
       "1.9263764424741455e-06"
      ]
     },
     "execution_count": 53,
     "metadata": {},
     "output_type": "execute_result"
    }
   ],
   "source": [
    "sum(result.fittedvalues-logshift['value'])**2"
   ]
  },
  {
   "cell_type": "code",
   "execution_count": 54,
   "id": "bd3c75d7",
   "metadata": {},
   "outputs": [],
   "source": [
    "pred = result.predict(1,10)"
   ]
  },
  {
   "cell_type": "code",
   "execution_count": 55,
   "id": "a08de66d",
   "metadata": {},
   "outputs": [
    {
     "data": {
      "text/plain": [
       "<AxesSubplot:xlabel='Date'>"
      ]
     },
     "execution_count": 55,
     "metadata": {},
     "output_type": "execute_result"
    },
    {
     "data": {
      "image/png": "[encoded data removed]",
      "text/plain": [
       "<Figure size 432x288 with 1 Axes>"
      ]
     },
     "metadata": {
      "needs_background": "light"
     },
     "output_type": "display_data"
    }
   ],
   "source": [
    "original = logshift.head(10)\n",
    "original.plot()\n",
    "pred.plot(color = 'red')"
   ]
  },
  {
   "cell_type": "code",
   "execution_count": 56,
   "id": "9550b1cc",
   "metadata": {},
   "outputs": [
    {
     "data": {
      "text/plain": [
       "(893, 1)"
      ]
     },
     "execution_count": 56,
     "metadata": {},
     "output_type": "execute_result"
    }
   ],
   "source": [
    "logshift.shape"
   ]
  },
  {
   "cell_type": "code",
   "execution_count": 59,
   "id": "32fca533",
   "metadata": {},
   "outputs": [
    {
     "name": "stderr",
     "output_type": "stream",
     "text": [
      "C:\\Users\\Tirth Shrimali\\lib\\site-packages\\statsmodels\\tsa\\base\\tsa_model.py:834: ValueWarning: No supported index is available. Prediction results will be given with an integer index beginning at `start`.\n",
      "  return get_prediction_index(\n"
     ]
    },
    {
     "data": {
      "text/plain": [
       "890    0.001181\n",
       "891    0.004653\n",
       "892    0.003224\n",
       "893   -0.000298\n",
       "894    0.000118\n",
       "895   -0.000100\n",
       "Name: predicted_mean, dtype: float64"
      ]
     },
     "execution_count": 59,
     "metadata": {},
     "output_type": "execute_result"
    }
   ],
   "source": [
    "result.predict(890,895)"
   ]
  },
  {
   "cell_type": "code",
   "execution_count": 61,
   "id": "f3746c72",
   "metadata": {},
   "outputs": [
    {
     "name": "stderr",
     "output_type": "stream",
     "text": [
      "C:\\Users\\Tirth Shrimali\\lib\\site-packages\\statsmodels\\tsa\\base\\tsa_model.py:834: ValueWarning: No supported index is available. Prediction results will be given with an integer index beginning at `start`.\n",
      "  return get_prediction_index(\n"
     ]
    },
    {
     "data": {
      "text/plain": [
       "896    0.000014\n",
       "897   -0.000046\n",
       "898   -0.000014\n",
       "899   -0.000031\n",
       "900   -0.000022\n",
       "901   -0.000027\n",
       "902   -0.000024\n",
       "903   -0.000026\n",
       "904   -0.000025\n",
       "905   -0.000025\n",
       "Name: predicted_mean, dtype: float64"
      ]
     },
     "execution_count": 61,
     "metadata": {},
     "output_type": "execute_result"
    }
   ],
   "source": [
    "result.predict(896,905)"
   ]
  },
  {
   "cell_type": "code",
   "execution_count": null,
   "id": "0c786632",
   "metadata": {},
   "outputs": [],
   "source": []
  },
  {
   "cell_type": "code",
   "execution_count": null,
   "id": "f70f1635",
   "metadata": {},
   "outputs": [],
   "source": []
  }
 ],
 "metadata": {
  "kernelspec": {
   "display_name": "Python 3 (ipykernel)",
   "language": "python",
   "name": "python3"
  },
  "language_info": {
   "codemirror_mode": {
    "name": "ipython",
    "version": 3
   },
   "file_extension": ".py",
   "mimetype": "text/x-python",
   "name": "python",
   "nbconvert_exporter": "python",
   "pygments_lexer": "ipython3",
   "version": "3.10.7"
  }
 },
 "nbformat": 4,
 "nbformat_minor": 5
}
